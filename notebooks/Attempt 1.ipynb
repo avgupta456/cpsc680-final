{
 "cells": [
  {
   "cell_type": "code",
   "execution_count": 1,
   "id": "836a17ee",
   "metadata": {},
   "outputs": [],
   "source": [
    "import sys\n",
    "\n",
    "sys.path.append(\"..\")\n",
    "\n",
    "import matplotlib.pyplot as plt\n",
    "import numpy as np\n",
    "import pandas as pd\n",
    "\n",
    "import torch\n",
    "import torch.nn.functional as F\n",
    "\n",
    "from torch_geometric.data import Data, InMemoryDataset\n",
    "from torch_geometric.nn import GCNConv, GATConv, SAGEConv, GINConv\n",
    "from torch_geometric.transforms import ToUndirected"
   ]
  },
  {
   "cell_type": "code",
   "execution_count": 13,
   "id": "bda3e030",
   "metadata": {},
   "outputs": [],
   "source": [
    "from src.utils import set_random_seed\n",
    "\n",
    "set_random_seed(0)\n",
    "\n",
    "\n",
    "def load_german_data():\n",
    "    df = pd.read_csv(\"../data/german/german.csv\")\n",
    "    columns = list(df.columns)\n",
    "\n",
    "    sens_attr = \"Gender\"\n",
    "    predict_attr = \"GoodCustomer\"\n",
    "\n",
    "    columns.remove(sens_attr)\n",
    "    columns.remove(predict_attr)\n",
    "    columns.remove(\"OtherLoansAtStore\")\n",
    "    columns.remove(\"PurposeOfLoan\")\n",
    "\n",
    "    features = df[columns].values\n",
    "\n",
    "    # Normalize features to have mean 0 and std 1\n",
    "    # TODO: very slight data leakage here, but it's not a big deal\n",
    "    features = (features - features.mean(axis=0)) / features.std(axis=0)\n",
    "\n",
    "    # -1, 0 --> 0, 1\n",
    "    labels = df[predict_attr].values\n",
    "    labels[labels == -1] = 0\n",
    "\n",
    "    sens_attrs = df[sens_attr].values.reshape(-1, 1)\n",
    "    sens_attrs[sens_attrs == \"Female\"] = 1\n",
    "    sens_attrs[sens_attrs == \"Male\"] = 0\n",
    "    sens_attrs = sens_attrs.astype(int)\n",
    "\n",
    "    idx = np.arange(features.shape[0], dtype=int)\n",
    "    idx_map = {j: i for i, j in enumerate(idx)}\n",
    "    edge_unordered = np.genfromtxt(\"../data/german/german_edges.txt\", dtype=float).astype(int)\n",
    "    edges = np.array(\n",
    "        list(map(idx_map.get, edge_unordered.flatten())), dtype=int\n",
    "    ).reshape(edge_unordered.shape)\n",
    "\n",
    "    # Among the labeled nodes, randomly select 100 validation, 100 test, rest training\n",
    "    labels_idx = np.arange(labels.shape[0], dtype=int)\n",
    "    val_test_idx = np.random.choice(labels_idx, size=200, replace=False)\n",
    "    val_idx = np.random.choice(val_test_idx, size=100, replace=False)\n",
    "    test_idx = np.setdiff1d(val_test_idx, val_idx)\n",
    "    train_idx = np.setdiff1d(labels_idx, val_test_idx)\n",
    "\n",
    "    train_mask = np.zeros(labels.shape, dtype=bool)\n",
    "    train_mask[train_idx] = True\n",
    "\n",
    "    val_mask = np.zeros(labels.shape, dtype=bool)\n",
    "    val_mask[val_idx] = True\n",
    "\n",
    "    test_mask = np.zeros(labels.shape, dtype=bool)\n",
    "    test_mask[test_idx] = True\n",
    "\n",
    "    data = Data(\n",
    "        x=torch.from_numpy(features).float(),\n",
    "        edge_index=torch.from_numpy(edges.T).long(),\n",
    "        y=torch.from_numpy(labels).float(),\n",
    "        sens_attrs=torch.from_numpy(sens_attrs).bool(),\n",
    "        train_mask=torch.from_numpy(train_mask).bool(),\n",
    "        val_mask=torch.from_numpy(val_mask).bool(),\n",
    "        test_mask=torch.from_numpy(test_mask).bool(),\n",
    "    )\n",
    "\n",
    "    return data\n",
    "\n",
    "\n",
    "class GermanDataset(InMemoryDataset):\n",
    "    def __init__(self, transform=None, pre_transform=None, pre_filter=None):\n",
    "        super().__init__(\"../data/german\", transform, pre_transform, pre_filter)\n",
    "\n",
    "        self.data, self.slices = torch.load(self.processed_paths[0])\n",
    "\n",
    "    @property\n",
    "    def raw_file_names(self):\n",
    "        return []\n",
    "\n",
    "    @property\n",
    "    def processed_file_names(self):\n",
    "        return \"german.pt\"\n",
    "\n",
    "    def process(self):\n",
    "        data: Data = load_german_data()\n",
    "        data = self.collate([data])\n",
    "\n",
    "        torch.save(data, self.processed_paths[0])\n",
    "\n",
    "\n",
    "german = GermanDataset(pre_transform=ToUndirected())"
   ]
  },
  {
   "cell_type": "code",
   "execution_count": 19,
   "id": "b3e6aff3",
   "metadata": {},
   "outputs": [],
   "source": [
    "class VanillaGCN(torch.nn.Module):\n",
    "    def __init__(self, in_channels, out_channels, hidden_channels):\n",
    "        super().__init__()\n",
    "        self.conv1 = GCNConv(in_channels, hidden_channels, 1)\n",
    "        self.conv2 = GCNConv(hidden_channels, out_channels, 1)\n",
    "\n",
    "    def forward(self, data):\n",
    "        x, edge_index = data.x, data.edge_index\n",
    "\n",
    "        x = self.conv1(x, edge_index)\n",
    "        x = x.relu()\n",
    "        x = self.conv2(x, edge_index)\n",
    "        x = x.sigmoid()\n",
    "\n",
    "        return x.squeeze()\n",
    "    \n",
    "    def get_embeddings(self, data):\n",
    "        x, edge_index = data.x, data.edge_index\n",
    "        \n",
    "        x = self.conv1(x, edge_index)\n",
    "        return x\n",
    "\n",
    "\n",
    "class VanillaGAT(torch.nn.Module):\n",
    "    def __init__(self, in_channels, out_channels, hidden_channels):\n",
    "        super().__init__()\n",
    "        self.conv1 = GATConv(in_channels, hidden_channels, 1)\n",
    "        self.conv2 = GATConv(hidden_channels, out_channels, 1)\n",
    "\n",
    "    def forward(self, data):\n",
    "        x, edge_index = data.x, data.edge_index\n",
    "\n",
    "        x = self.conv1(x, edge_index)\n",
    "        x = x.relu()\n",
    "        x = self.conv2(x, edge_index)\n",
    "        x = x.sigmoid()\n",
    "\n",
    "        return x.squeeze()\n",
    "\n",
    "\n",
    "class VanillaSAGE(torch.nn.Module):\n",
    "    def __init__(self, in_channels, out_channels, hidden_channels):\n",
    "        super().__init__()\n",
    "        self.conv1 = SAGEConv(in_channels, hidden_channels)\n",
    "        self.conv2 = SAGEConv(hidden_channels, out_channels)\n",
    "\n",
    "    def forward(self, data):\n",
    "        x, edge_index = data.x, data.edge_index\n",
    "\n",
    "        x = self.conv1(x, edge_index)\n",
    "        x = x.relu()\n",
    "        x = self.conv2(x, edge_index)\n",
    "        x = x.sigmoid()\n",
    "\n",
    "        return x.squeeze()\n",
    "\n",
    "\n",
    "class VanillaGIN(torch.nn.Module):\n",
    "    def __init__(self, in_channels, out_channels, hidden_channels):\n",
    "        super().__init__()\n",
    "        self.conv1 = GINConv(torch.nn.Linear(in_channels, hidden_channels))\n",
    "        self.conv2 = GINConv(torch.nn.Linear(hidden_channels, out_channels))\n",
    "\n",
    "    def forward(self, data):\n",
    "        x, edge_index = data.x, data.edge_index\n",
    "\n",
    "        x = self.conv1(x, edge_index)\n",
    "        x = x.relu()\n",
    "        x = self.conv2(x, edge_index)\n",
    "        x = x.sigmoid()\n",
    "\n",
    "        return x.squeeze()"
   ]
  },
  {
   "cell_type": "code",
   "execution_count": 20,
   "id": "d9e88f8b",
   "metadata": {},
   "outputs": [],
   "source": [
    "def fair_metric(labels, sens, output, idx):\n",
    "    val_y = labels[idx].cpu().numpy()\n",
    "    idx_s0 = sens.cpu().numpy()[idx.cpu().numpy()] == 0\n",
    "    idx_s1 = sens.cpu().numpy()[idx.cpu().numpy()] == 1\n",
    "\n",
    "    idx_s0_y1 = np.bitwise_and(idx_s0, val_y == 1)\n",
    "    idx_s1_y1 = np.bitwise_and(idx_s1, val_y == 1)\n",
    "\n",
    "    pred_y = (output[idx].squeeze() > 0.5).type_as(labels).cpu().numpy()\n",
    "    parity = abs(sum(pred_y[idx_s0]) / sum(idx_s0) - sum(pred_y[idx_s1]) / sum(idx_s1))\n",
    "    equality = abs(\n",
    "        sum(pred_y[idx_s0_y1]) / sum(idx_s0_y1)\n",
    "        - sum(pred_y[idx_s1_y1]) / sum(idx_s1_y1)\n",
    "    )\n",
    "\n",
    "    return parity, equality\n",
    "\n",
    "\n",
    "def eval_model(data, model):\n",
    "    model.eval()\n",
    "    output = model(data)\n",
    "    labels = data.y\n",
    "    sens = data.sens_attrs.flatten()\n",
    "\n",
    "    idx = data.test_mask\n",
    "    acc = (output[idx].squeeze() > 0.5).eq(labels[idx]).sum().item() / idx.sum().item()\n",
    "    parity, equality = fair_metric(labels, sens, output, idx)\n",
    "\n",
    "    print(\"Test set results:\")\n",
    "    print(f\"Accuracy: {acc:.4f}\")\n",
    "    print(f\"Parity: {parity:.4f}\")\n",
    "    print(f\"Equality: {equality:.4f}\")"
   ]
  },
  {
   "cell_type": "code",
   "execution_count": 21,
   "id": "6cf2702d",
   "metadata": {},
   "outputs": [],
   "source": [
    "model = torch.load(\"../models/german_16.pt\")"
   ]
  },
  {
   "cell_type": "code",
   "execution_count": 22,
   "id": "1b082b1a",
   "metadata": {},
   "outputs": [
    {
     "name": "stdout",
     "output_type": "stream",
     "text": [
      "Test set results:\n",
      "Accuracy: 0.7300\n",
      "Parity: 0.1253\n",
      "Equality: 0.0833\n"
     ]
    }
   ],
   "source": [
    "eval_model(german[0], model)"
   ]
  },
  {
   "cell_type": "code",
   "execution_count": 36,
   "id": "d56ab804",
   "metadata": {},
   "outputs": [
    {
     "name": "stdout",
     "output_type": "stream",
     "text": [
      "torch.Size([1000, 16])\n"
     ]
    }
   ],
   "source": [
    "embeddings = model.get_embeddings(german[0])\n",
    "print(embeddings.shape)"
   ]
  },
  {
   "cell_type": "code",
   "execution_count": 37,
   "id": "8406d9a8",
   "metadata": {},
   "outputs": [
    {
     "name": "stdout",
     "output_type": "stream",
     "text": [
      "torch.Size([24970])\n"
     ]
    }
   ],
   "source": [
    "x1 = embeddings[german[0].edge_index[0]]\n",
    "x2 = embeddings[german[0].edge_index[1]]\n",
    "link_pred = (x1 * x2).sum(dim=-1).sigmoid()\n",
    "print(link_pred.shape)"
   ]
  },
  {
   "cell_type": "code",
   "execution_count": 35,
   "id": "658360a8",
   "metadata": {},
   "outputs": [
    {
     "name": "stderr",
     "output_type": "stream",
     "text": [
      "/var/folders/t4/y6fltgk127g2nzwpqv5mcmd40000gn/T/ipykernel_18391/3163035848.py:3: UserWarning: Matplotlib is currently using module://matplotlib_inline.backend_inline, which is a non-GUI backend, so cannot show the figure.\n",
      "  fig.show()\n"
     ]
    },
    {
     "data": {
      "image/png": "[encoded data removed]",
      "text/plain": [
       "<Figure size 640x480 with 1 Axes>"
      ]
     },
     "metadata": {},
     "output_type": "display_data"
    }
   ],
   "source": [
    "fig, ax = plt.subplots()\n",
    "ax.hist(link_pred.detach().numpy(), bins=20)\n",
    "fig.show()"
   ]
  },
  {
   "cell_type": "code",
   "execution_count": null,
   "id": "bd522ff7",
   "metadata": {},
   "outputs": [],
   "source": []
  }
 ],
 "metadata": {
  "kernelspec": {
   "display_name": "Python 3 (ipykernel)",
   "language": "python",
   "name": "python3"
  },
  "language_info": {
   "codemirror_mode": {
    "name": "ipython",
    "version": 3
   },
   "file_extension": ".py",
   "mimetype": "text/x-python",
   "name": "python",
   "nbconvert_exporter": "python",
   "pygments_lexer": "ipython3",
   "version": "3.11.2"
  }
 },
 "nbformat": 4,
 "nbformat_minor": 5
}
